{
 "cells": [
  {
   "cell_type": "code",
   "execution_count": 1,
   "id": "76afdd05",
   "metadata": {
    "_cell_guid": "b1076dfc-b9ad-4769-8c92-a6c4dae69d19",
    "_uuid": "8f2839f25d086af736a60e9eeb907d3b93b6e0e5",
    "execution": {
     "iopub.execute_input": "2022-07-19T10:37:25.237291Z",
     "iopub.status.busy": "2022-07-19T10:37:25.236554Z",
     "iopub.status.idle": "2022-07-19T10:37:25.251410Z",
     "shell.execute_reply": "2022-07-19T10:37:25.250509Z"
    },
    "papermill": {
     "duration": 0.027022,
     "end_time": "2022-07-19T10:37:25.254326",
     "exception": false,
     "start_time": "2022-07-19T10:37:25.227304",
     "status": "completed"
    },
    "tags": []
   },
   "outputs": [
    {
     "name": "stdout",
     "output_type": "stream",
     "text": [
      "/kaggle/input/titanic/train.csv\n",
      "/kaggle/input/titanic/test.csv\n",
      "/kaggle/input/titanic/gender_submission.csv\n"
     ]
    }
   ],
   "source": [
    "# This Python 3 environment comes with many helpful analytics libraries installed\n",
    "# It is defined by the kaggle/python Docker image: https://github.com/kaggle/docker-python\n",
    "# For example, here's several helpful packages to load\n",
    "\n",
    "import numpy as np # linear algebra\n",
    "import pandas as pd # data processing, CSV file I/O (e.g. pd.read_csv)\n",
    "\n",
    "# Input data files are available in the read-only \"../input/\" directory\n",
    "# For example, running this (by clicking run or pressing Shift+Enter) will list all files under the input directory\n",
    "\n",
    "import os\n",
    "for dirname, _, filenames in os.walk('/kaggle/input'):\n",
    "    for filename in filenames:\n",
    "        print(os.path.join(dirname, filename))\n",
    "\n",
    "# You can write up to 20GB to the current directory (/kaggle/working/) that gets preserved as output when you create a version using \"Save & Run All\" \n",
    "# You can also write temporary files to /kaggle/temp/, but they won't be saved outside of the current session"
   ]
  },
  {
   "cell_type": "code",
   "execution_count": 2,
   "id": "17c26332",
   "metadata": {
    "execution": {
     "iopub.execute_input": "2022-07-19T10:37:25.270824Z",
     "iopub.status.busy": "2022-07-19T10:37:25.269796Z",
     "iopub.status.idle": "2022-07-19T10:37:25.298421Z",
     "shell.execute_reply": "2022-07-19T10:37:25.297197Z"
    },
    "papermill": {
     "duration": 0.039287,
     "end_time": "2022-07-19T10:37:25.301286",
     "exception": false,
     "start_time": "2022-07-19T10:37:25.261999",
     "status": "completed"
    },
    "tags": []
   },
   "outputs": [
    {
     "ename": "NameError",
     "evalue": "name 'pd' is not defined",
     "output_type": "error",
     "traceback": [
      "\u001b[1;31m---------------------------------------------------------------------------\u001b[0m",
      "\u001b[1;31mNameError\u001b[0m                                 Traceback (most recent call last)",
      "Input \u001b[1;32mIn [2]\u001b[0m, in \u001b[0;36m<cell line: 1>\u001b[1;34m()\u001b[0m\n\u001b[1;32m----> 1\u001b[0m test \u001b[38;5;241m=\u001b[39m\u001b[43mpd\u001b[49m\u001b[38;5;241m.\u001b[39mread_csv(\u001b[38;5;124m\"\u001b[39m\u001b[38;5;124m../input/titanic/test.csv\u001b[39m\u001b[38;5;124m\"\u001b[39m)\n\u001b[0;32m      2\u001b[0m train \u001b[38;5;241m=\u001b[39mpd\u001b[38;5;241m.\u001b[39mread_csv(\u001b[38;5;124m\"\u001b[39m\u001b[38;5;124m../input/titanic/train.csv\u001b[39m\u001b[38;5;124m\"\u001b[39m)\n",
      "\u001b[1;31mNameError\u001b[0m: name 'pd' is not defined"
     ]
    }
   ],
   "source": [
    "test =pd.read_csv(\"test.csv\")\n",
    "train =pd.read_csv(\"train.csv\")"
   ]
  },
  {
   "cell_type": "code",
   "execution_count": 3,
   "id": "8c500d3e",
   "metadata": {
    "execution": {
     "iopub.execute_input": "2022-07-19T10:37:25.317385Z",
     "iopub.status.busy": "2022-07-19T10:37:25.316662Z",
     "iopub.status.idle": "2022-07-19T10:37:25.341659Z",
     "shell.execute_reply": "2022-07-19T10:37:25.340498Z"
    },
    "papermill": {
     "duration": 0.035892,
     "end_time": "2022-07-19T10:37:25.344225",
     "exception": false,
     "start_time": "2022-07-19T10:37:25.308333",
     "status": "completed"
    },
    "tags": []
   },
   "outputs": [
    {
     "data": {
      "text/html": [
       "<div>\n",
       "<style scoped>\n",
       "    .dataframe tbody tr th:only-of-type {\n",
       "        vertical-align: middle;\n",
       "    }\n",
       "\n",
       "    .dataframe tbody tr th {\n",
       "        vertical-align: top;\n",
       "    }\n",
       "\n",
       "    .dataframe thead th {\n",
       "        text-align: right;\n",
       "    }\n",
       "</style>\n",
       "<table border=\"1\" class=\"dataframe\">\n",
       "  <thead>\n",
       "    <tr style=\"text-align: right;\">\n",
       "      <th></th>\n",
       "      <th>PassengerId</th>\n",
       "      <th>Survived</th>\n",
       "      <th>Pclass</th>\n",
       "      <th>Name</th>\n",
       "      <th>Sex</th>\n",
       "      <th>Age</th>\n",
       "      <th>SibSp</th>\n",
       "      <th>Parch</th>\n",
       "      <th>Ticket</th>\n",
       "      <th>Fare</th>\n",
       "      <th>Cabin</th>\n",
       "      <th>Embarked</th>\n",
       "    </tr>\n",
       "  </thead>\n",
       "  <tbody>\n",
       "    <tr>\n",
       "      <th>0</th>\n",
       "      <td>1</td>\n",
       "      <td>0</td>\n",
       "      <td>3</td>\n",
       "      <td>Braund, Mr. Owen Harris</td>\n",
       "      <td>male</td>\n",
       "      <td>22.0</td>\n",
       "      <td>1</td>\n",
       "      <td>0</td>\n",
       "      <td>A/5 21171</td>\n",
       "      <td>7.2500</td>\n",
       "      <td>NaN</td>\n",
       "      <td>S</td>\n",
       "    </tr>\n",
       "    <tr>\n",
       "      <th>1</th>\n",
       "      <td>2</td>\n",
       "      <td>1</td>\n",
       "      <td>1</td>\n",
       "      <td>Cumings, Mrs. John Bradley (Florence Briggs Th...</td>\n",
       "      <td>female</td>\n",
       "      <td>38.0</td>\n",
       "      <td>1</td>\n",
       "      <td>0</td>\n",
       "      <td>PC 17599</td>\n",
       "      <td>71.2833</td>\n",
       "      <td>C85</td>\n",
       "      <td>C</td>\n",
       "    </tr>\n",
       "    <tr>\n",
       "      <th>2</th>\n",
       "      <td>3</td>\n",
       "      <td>1</td>\n",
       "      <td>3</td>\n",
       "      <td>Heikkinen, Miss. Laina</td>\n",
       "      <td>female</td>\n",
       "      <td>26.0</td>\n",
       "      <td>0</td>\n",
       "      <td>0</td>\n",
       "      <td>STON/O2. 3101282</td>\n",
       "      <td>7.9250</td>\n",
       "      <td>NaN</td>\n",
       "      <td>S</td>\n",
       "    </tr>\n",
       "    <tr>\n",
       "      <th>3</th>\n",
       "      <td>4</td>\n",
       "      <td>1</td>\n",
       "      <td>1</td>\n",
       "      <td>Futrelle, Mrs. Jacques Heath (Lily May Peel)</td>\n",
       "      <td>female</td>\n",
       "      <td>35.0</td>\n",
       "      <td>1</td>\n",
       "      <td>0</td>\n",
       "      <td>113803</td>\n",
       "      <td>53.1000</td>\n",
       "      <td>C123</td>\n",
       "      <td>S</td>\n",
       "    </tr>\n",
       "    <tr>\n",
       "      <th>4</th>\n",
       "      <td>5</td>\n",
       "      <td>0</td>\n",
       "      <td>3</td>\n",
       "      <td>Allen, Mr. William Henry</td>\n",
       "      <td>male</td>\n",
       "      <td>35.0</td>\n",
       "      <td>0</td>\n",
       "      <td>0</td>\n",
       "      <td>373450</td>\n",
       "      <td>8.0500</td>\n",
       "      <td>NaN</td>\n",
       "      <td>S</td>\n",
       "    </tr>\n",
       "  </tbody>\n",
       "</table>\n",
       "</div>"
      ],
      "text/plain": [
       "   PassengerId  Survived  Pclass  \\\n",
       "0            1         0       3   \n",
       "1            2         1       1   \n",
       "2            3         1       3   \n",
       "3            4         1       1   \n",
       "4            5         0       3   \n",
       "\n",
       "                                                Name     Sex   Age  SibSp  \\\n",
       "0                            Braund, Mr. Owen Harris    male  22.0      1   \n",
       "1  Cumings, Mrs. John Bradley (Florence Briggs Th...  female  38.0      1   \n",
       "2                             Heikkinen, Miss. Laina  female  26.0      0   \n",
       "3       Futrelle, Mrs. Jacques Heath (Lily May Peel)  female  35.0      1   \n",
       "4                           Allen, Mr. William Henry    male  35.0      0   \n",
       "\n",
       "   Parch            Ticket     Fare Cabin Embarked  \n",
       "0      0         A/5 21171   7.2500   NaN        S  \n",
       "1      0          PC 17599  71.2833   C85        C  \n",
       "2      0  STON/O2. 3101282   7.9250   NaN        S  \n",
       "3      0            113803  53.1000  C123        S  \n",
       "4      0            373450   8.0500   NaN        S  "
      ]
     },
     "execution_count": 3,
     "metadata": {},
     "output_type": "execute_result"
    }
   ],
   "source": [
    "train.head()"
   ]
  },
  {
   "cell_type": "code",
   "execution_count": 4,
   "id": "a7e617c5",
   "metadata": {
    "execution": {
     "iopub.execute_input": "2022-07-19T10:37:25.359837Z",
     "iopub.status.busy": "2022-07-19T10:37:25.359117Z",
     "iopub.status.idle": "2022-07-19T10:37:25.376461Z",
     "shell.execute_reply": "2022-07-19T10:37:25.375213Z"
    },
    "papermill": {
     "duration": 0.028053,
     "end_time": "2022-07-19T10:37:25.378981",
     "exception": false,
     "start_time": "2022-07-19T10:37:25.350928",
     "status": "completed"
    },
    "tags": []
   },
   "outputs": [
    {
     "data": {
      "text/html": [
       "<div>\n",
       "<style scoped>\n",
       "    .dataframe tbody tr th:only-of-type {\n",
       "        vertical-align: middle;\n",
       "    }\n",
       "\n",
       "    .dataframe tbody tr th {\n",
       "        vertical-align: top;\n",
       "    }\n",
       "\n",
       "    .dataframe thead th {\n",
       "        text-align: right;\n",
       "    }\n",
       "</style>\n",
       "<table border=\"1\" class=\"dataframe\">\n",
       "  <thead>\n",
       "    <tr style=\"text-align: right;\">\n",
       "      <th></th>\n",
       "      <th>PassengerId</th>\n",
       "      <th>Pclass</th>\n",
       "      <th>Name</th>\n",
       "      <th>Sex</th>\n",
       "      <th>Age</th>\n",
       "      <th>SibSp</th>\n",
       "      <th>Parch</th>\n",
       "      <th>Ticket</th>\n",
       "      <th>Fare</th>\n",
       "      <th>Cabin</th>\n",
       "      <th>Embarked</th>\n",
       "    </tr>\n",
       "  </thead>\n",
       "  <tbody>\n",
       "    <tr>\n",
       "      <th>0</th>\n",
       "      <td>892</td>\n",
       "      <td>3</td>\n",
       "      <td>Kelly, Mr. James</td>\n",
       "      <td>male</td>\n",
       "      <td>34.5</td>\n",
       "      <td>0</td>\n",
       "      <td>0</td>\n",
       "      <td>330911</td>\n",
       "      <td>7.8292</td>\n",
       "      <td>NaN</td>\n",
       "      <td>Q</td>\n",
       "    </tr>\n",
       "    <tr>\n",
       "      <th>1</th>\n",
       "      <td>893</td>\n",
       "      <td>3</td>\n",
       "      <td>Wilkes, Mrs. James (Ellen Needs)</td>\n",
       "      <td>female</td>\n",
       "      <td>47.0</td>\n",
       "      <td>1</td>\n",
       "      <td>0</td>\n",
       "      <td>363272</td>\n",
       "      <td>7.0000</td>\n",
       "      <td>NaN</td>\n",
       "      <td>S</td>\n",
       "    </tr>\n",
       "    <tr>\n",
       "      <th>2</th>\n",
       "      <td>894</td>\n",
       "      <td>2</td>\n",
       "      <td>Myles, Mr. Thomas Francis</td>\n",
       "      <td>male</td>\n",
       "      <td>62.0</td>\n",
       "      <td>0</td>\n",
       "      <td>0</td>\n",
       "      <td>240276</td>\n",
       "      <td>9.6875</td>\n",
       "      <td>NaN</td>\n",
       "      <td>Q</td>\n",
       "    </tr>\n",
       "    <tr>\n",
       "      <th>3</th>\n",
       "      <td>895</td>\n",
       "      <td>3</td>\n",
       "      <td>Wirz, Mr. Albert</td>\n",
       "      <td>male</td>\n",
       "      <td>27.0</td>\n",
       "      <td>0</td>\n",
       "      <td>0</td>\n",
       "      <td>315154</td>\n",
       "      <td>8.6625</td>\n",
       "      <td>NaN</td>\n",
       "      <td>S</td>\n",
       "    </tr>\n",
       "    <tr>\n",
       "      <th>4</th>\n",
       "      <td>896</td>\n",
       "      <td>3</td>\n",
       "      <td>Hirvonen, Mrs. Alexander (Helga E Lindqvist)</td>\n",
       "      <td>female</td>\n",
       "      <td>22.0</td>\n",
       "      <td>1</td>\n",
       "      <td>1</td>\n",
       "      <td>3101298</td>\n",
       "      <td>12.2875</td>\n",
       "      <td>NaN</td>\n",
       "      <td>S</td>\n",
       "    </tr>\n",
       "  </tbody>\n",
       "</table>\n",
       "</div>"
      ],
      "text/plain": [
       "   PassengerId  Pclass                                          Name     Sex  \\\n",
       "0          892       3                              Kelly, Mr. James    male   \n",
       "1          893       3              Wilkes, Mrs. James (Ellen Needs)  female   \n",
       "2          894       2                     Myles, Mr. Thomas Francis    male   \n",
       "3          895       3                              Wirz, Mr. Albert    male   \n",
       "4          896       3  Hirvonen, Mrs. Alexander (Helga E Lindqvist)  female   \n",
       "\n",
       "    Age  SibSp  Parch   Ticket     Fare Cabin Embarked  \n",
       "0  34.5      0      0   330911   7.8292   NaN        Q  \n",
       "1  47.0      1      0   363272   7.0000   NaN        S  \n",
       "2  62.0      0      0   240276   9.6875   NaN        Q  \n",
       "3  27.0      0      0   315154   8.6625   NaN        S  \n",
       "4  22.0      1      1  3101298  12.2875   NaN        S  "
      ]
     },
     "execution_count": 4,
     "metadata": {},
     "output_type": "execute_result"
    }
   ],
   "source": [
    "test.head()"
   ]
  },
  {
   "cell_type": "code",
   "execution_count": 5,
   "id": "e0acd1c9",
   "metadata": {
    "execution": {
     "iopub.execute_input": "2022-07-19T10:37:25.395493Z",
     "iopub.status.busy": "2022-07-19T10:37:25.394685Z",
     "iopub.status.idle": "2022-07-19T10:37:25.607260Z",
     "shell.execute_reply": "2022-07-19T10:37:25.606067Z"
    },
    "papermill": {
     "duration": 0.223683,
     "end_time": "2022-07-19T10:37:25.609751",
     "exception": false,
     "start_time": "2022-07-19T10:37:25.386068",
     "status": "completed"
    },
    "tags": []
   },
   "outputs": [
    {
     "data": {
      "text/plain": [
       "<function matplotlib.pyplot.show(close=None, block=None)>"
      ]
     },
     "execution_count": 5,
     "metadata": {},
     "output_type": "execute_result"
    },
    {
     "data": {
      "image/png": "[encoded data removed]",
      "text/plain": [
       "<Figure size 432x288 with 1 Axes>"
      ]
     },
     "metadata": {
      "needs_background": "light"
     },
     "output_type": "display_data"
    }
   ],
   "source": [
    "import matplotlib.pyplot as plt\n",
    "sex_pivot=train.pivot_table(index=\"Sex\",values= \"Survived\")\n",
    "sex_pivot.plot.bar()\n",
    "plt.show"
   ]
  },
  {
   "cell_type": "code",
   "execution_count": 6,
   "id": "01eba05b",
   "metadata": {
    "execution": {
     "iopub.execute_input": "2022-07-19T10:37:25.626885Z",
     "iopub.status.busy": "2022-07-19T10:37:25.626190Z",
     "iopub.status.idle": "2022-07-19T10:37:25.803442Z",
     "shell.execute_reply": "2022-07-19T10:37:25.801925Z"
    },
    "papermill": {
     "duration": 0.189044,
     "end_time": "2022-07-19T10:37:25.806213",
     "exception": false,
     "start_time": "2022-07-19T10:37:25.617169",
     "status": "completed"
    },
    "tags": []
   },
   "outputs": [
    {
     "data": {
      "image/png": "[encoded data removed]",
      "text/plain": [
       "<Figure size 432x288 with 1 Axes>"
      ]
     },
     "metadata": {
      "needs_background": "light"
     },
     "output_type": "display_data"
    }
   ],
   "source": [
    "class_pivot=train.pivot_table(index=\"Pclass\",values=\"Survived\")\n",
    "class_pivot.plot.bar()\n",
    "plt.show()"
   ]
  },
  {
   "cell_type": "code",
   "execution_count": 7,
   "id": "7f8250dd",
   "metadata": {
    "execution": {
     "iopub.execute_input": "2022-07-19T10:37:25.831355Z",
     "iopub.status.busy": "2022-07-19T10:37:25.830755Z",
     "iopub.status.idle": "2022-07-19T10:37:25.842218Z",
     "shell.execute_reply": "2022-07-19T10:37:25.841457Z"
    },
    "papermill": {
     "duration": 0.027286,
     "end_time": "2022-07-19T10:37:25.844289",
     "exception": false,
     "start_time": "2022-07-19T10:37:25.817003",
     "status": "completed"
    },
    "tags": []
   },
   "outputs": [
    {
     "data": {
      "text/plain": [
       "count    714.000000\n",
       "mean      29.699118\n",
       "std       14.526497\n",
       "min        0.420000\n",
       "25%       20.125000\n",
       "50%       28.000000\n",
       "75%       38.000000\n",
       "max       80.000000\n",
       "Name: Age, dtype: float64"
      ]
     },
     "execution_count": 7,
     "metadata": {},
     "output_type": "execute_result"
    }
   ],
   "source": [
    "train[\"Age\"].describe()"
   ]
  },
  {
   "cell_type": "code",
   "execution_count": 8,
   "id": "8036917d",
   "metadata": {
    "execution": {
     "iopub.execute_input": "2022-07-19T10:37:25.861390Z",
     "iopub.status.busy": "2022-07-19T10:37:25.860976Z",
     "iopub.status.idle": "2022-07-19T10:37:26.295048Z",
     "shell.execute_reply": "2022-07-19T10:37:26.293839Z"
    },
    "papermill": {
     "duration": 0.445723,
     "end_time": "2022-07-19T10:37:26.297591",
     "exception": false,
     "start_time": "2022-07-19T10:37:25.851868",
     "status": "completed"
    },
    "tags": []
   },
   "outputs": [
    {
     "data": {
      "image/png": "[encoded data removed]",
      "text/plain": [
       "<Figure size 432x288 with 1 Axes>"
      ]
     },
     "metadata": {
      "needs_background": "light"
     },
     "output_type": "display_data"
    }
   ],
   "source": [
    "survived=train[train[\"Survived\"]==1]\n",
    "died=train[train[\"Survived\"]==0]\n",
    "survived[\"Age\"].plot.hist(alpha=0.5,color=\"red\",bins=50)\n",
    "died[\"Age\"].plot.hist(alpha=0.5,color=\"blue\",bins=50)\n",
    "plt.legend(['Survived','dided'])\n",
    "plt.show()"
   ]
  },
  {
   "cell_type": "code",
   "execution_count": 9,
   "id": "45c7e6f6",
   "metadata": {
    "execution": {
     "iopub.execute_input": "2022-07-19T10:37:26.315358Z",
     "iopub.status.busy": "2022-07-19T10:37:26.314944Z",
     "iopub.status.idle": "2022-07-19T10:37:26.541044Z",
     "shell.execute_reply": "2022-07-19T10:37:26.539868Z"
    },
    "papermill": {
     "duration": 0.237799,
     "end_time": "2022-07-19T10:37:26.543430",
     "exception": false,
     "start_time": "2022-07-19T10:37:26.305631",
     "status": "completed"
    },
    "tags": []
   },
   "outputs": [
    {
     "data": {
      "image/png": "[encoded data removed]",
      "text/plain": [
       "<Figure size 432x288 with 1 Axes>"
      ]
     },
     "metadata": {
      "needs_background": "light"
     },
     "output_type": "display_data"
    }
   ],
   "source": [
    "def process_age(df,cut_points,label_names):\n",
    "    df[\"Age\"]=df[\"Age\"].fillna(-0.5)\n",
    "    df[\"Age_categories\"]=pd.cut(df[\"Age\"],cut_points,labels=label_names)\n",
    "    return df\n",
    "\n",
    "cut_points=[-1,0,5,12,18,35,60,100]\n",
    "label_names=[\"Missing\",\"Infant\",\"Child\",\"Teenager\",\"Y Adult\",\"Adult\",\"Senior\"]\n",
    "train=process_age(train,cut_points,label_names)\n",
    "test=process_age(test,cut_points,label_names)  \n",
    "             \n",
    "pivot=train.pivot_table(index=\"Age_categories\",values=\"Survived\") \n",
    "pivot.plot.bar()             \n",
    "plt.show()        "
   ]
  },
  {
   "cell_type": "code",
   "execution_count": 10,
   "id": "832ebf98",
   "metadata": {
    "execution": {
     "iopub.execute_input": "2022-07-19T10:37:26.561783Z",
     "iopub.status.busy": "2022-07-19T10:37:26.561400Z",
     "iopub.status.idle": "2022-07-19T10:37:26.569070Z",
     "shell.execute_reply": "2022-07-19T10:37:26.568043Z"
    },
    "papermill": {
     "duration": 0.019914,
     "end_time": "2022-07-19T10:37:26.571659",
     "exception": false,
     "start_time": "2022-07-19T10:37:26.551745",
     "status": "completed"
    },
    "tags": []
   },
   "outputs": [
    {
     "data": {
      "text/plain": [
       "3    491\n",
       "1    216\n",
       "2    184\n",
       "Name: Pclass, dtype: int64"
      ]
     },
     "execution_count": 10,
     "metadata": {},
     "output_type": "execute_result"
    }
   ],
   "source": [
    "train['Pclass'].value_counts()"
   ]
  },
  {
   "cell_type": "code",
   "execution_count": 11,
   "id": "ab3d3449",
   "metadata": {
    "execution": {
     "iopub.execute_input": "2022-07-19T10:37:26.590326Z",
     "iopub.status.busy": "2022-07-19T10:37:26.589557Z",
     "iopub.status.idle": "2022-07-19T10:37:26.606679Z",
     "shell.execute_reply": "2022-07-19T10:37:26.605456Z"
    },
    "papermill": {
     "duration": 0.029337,
     "end_time": "2022-07-19T10:37:26.609357",
     "exception": false,
     "start_time": "2022-07-19T10:37:26.580020",
     "status": "completed"
    },
    "tags": []
   },
   "outputs": [],
   "source": [
    "def create_dummies(df,column_name):\n",
    "    dummies=pd.get_dummies(df[column_name],prefix=column_name)\n",
    "    df=pd.concat([df,dummies],axis=1)\n",
    "    return df\n",
    "\n",
    "for column in [\"Pclass\",\"Sex\",\"Age_categories\"]:\n",
    "    train=create_dummies(train,column)\n",
    "    test=create_dummies(test,column)"
   ]
  },
  {
   "cell_type": "code",
   "execution_count": 12,
   "id": "25738532",
   "metadata": {
    "execution": {
     "iopub.execute_input": "2022-07-19T10:37:26.628437Z",
     "iopub.status.busy": "2022-07-19T10:37:26.627285Z",
     "iopub.status.idle": "2022-07-19T10:37:27.802256Z",
     "shell.execute_reply": "2022-07-19T10:37:27.801159Z"
    },
    "papermill": {
     "duration": 1.188149,
     "end_time": "2022-07-19T10:37:27.805873",
     "exception": false,
     "start_time": "2022-07-19T10:37:26.617724",
     "status": "completed"
    },
    "tags": []
   },
   "outputs": [
    {
     "data": {
      "text/plain": [
       "LogisticRegression()"
      ]
     },
     "execution_count": 12,
     "metadata": {},
     "output_type": "execute_result"
    }
   ],
   "source": [
    "from sklearn.linear_model import LogisticRegression\n",
    "lr=LogisticRegression()\n",
    "\n",
    "columns=['Pclass_1','Pclass_2','Pclass_3','Sex_female','Sex_male','Age_categories_Missing','Age_categories_Infant','Age_categories_Child','Age_categories_Teenager','Age_categories_Adult','Age_categories_Senior']\n",
    "\n",
    "lr=LogisticRegression()\n",
    "lr.fit(train[columns],train['Survived'])"
   ]
  },
  {
   "cell_type": "code",
   "execution_count": 13,
   "id": "54bc44b1",
   "metadata": {
    "execution": {
     "iopub.execute_input": "2022-07-19T10:37:27.839397Z",
     "iopub.status.busy": "2022-07-19T10:37:27.838758Z",
     "iopub.status.idle": "2022-07-19T10:37:27.855696Z",
     "shell.execute_reply": "2022-07-19T10:37:27.854402Z"
    },
    "papermill": {
     "duration": 0.038375,
     "end_time": "2022-07-19T10:37:27.859851",
     "exception": false,
     "start_time": "2022-07-19T10:37:27.821476",
     "status": "completed"
    },
    "tags": []
   },
   "outputs": [],
   "source": [
    "holdout=test\n",
    "from sklearn.model_selection import train_test_split\n",
    "\n",
    "all_x=train[columns]\n",
    "all_y=train['Survived']\n",
    "train_x,test_x,train_y,test_y=train_test_split(all_x,all_y,test_size=.2,random_state=0)"
   ]
  },
  {
   "cell_type": "code",
   "execution_count": 14,
   "id": "94454bd6",
   "metadata": {
    "execution": {
     "iopub.execute_input": "2022-07-19T10:37:27.893514Z",
     "iopub.status.busy": "2022-07-19T10:37:27.892931Z",
     "iopub.status.idle": "2022-07-19T10:37:27.920229Z",
     "shell.execute_reply": "2022-07-19T10:37:27.919327Z"
    },
    "papermill": {
     "duration": 0.047098,
     "end_time": "2022-07-19T10:37:27.922894",
     "exception": false,
     "start_time": "2022-07-19T10:37:27.875796",
     "status": "completed"
    },
    "tags": []
   },
   "outputs": [],
   "source": [
    "lr=LogisticRegression()\n",
    "lr.fit(train_x,train_y)\n",
    "predictions=lr.predict(test_x)"
   ]
  },
  {
   "cell_type": "code",
   "execution_count": 15,
   "id": "40a95e7a",
   "metadata": {
    "execution": {
     "iopub.execute_input": "2022-07-19T10:37:27.941640Z",
     "iopub.status.busy": "2022-07-19T10:37:27.941271Z",
     "iopub.status.idle": "2022-07-19T10:37:27.959819Z",
     "shell.execute_reply": "2022-07-19T10:37:27.958486Z"
    },
    "papermill": {
     "duration": 0.030919,
     "end_time": "2022-07-19T10:37:27.962329",
     "exception": false,
     "start_time": "2022-07-19T10:37:27.931410",
     "status": "completed"
    },
    "tags": []
   },
   "outputs": [
    {
     "name": "stdout",
     "output_type": "stream",
     "text": [
      "0.8100558659217877\n"
     ]
    }
   ],
   "source": [
    "from sklearn.metrics import accuracy_score\n",
    "lr=LogisticRegression()\n",
    "lr.fit(train_x,train_y)\n",
    "predictons=lr.predict(test_x)\n",
    "accuracy=accuracy_score(test_y,predictions)\n",
    "print(accuracy)"
   ]
  },
  {
   "cell_type": "code",
   "execution_count": 16,
   "id": "e04cdc86",
   "metadata": {
    "execution": {
     "iopub.execute_input": "2022-07-19T10:37:27.981366Z",
     "iopub.status.busy": "2022-07-19T10:37:27.980685Z",
     "iopub.status.idle": "2022-07-19T10:37:28.009448Z",
     "shell.execute_reply": "2022-07-19T10:37:28.008052Z"
    },
    "papermill": {
     "duration": 0.042537,
     "end_time": "2022-07-19T10:37:28.013325",
     "exception": false,
     "start_time": "2022-07-19T10:37:27.970788",
     "status": "completed"
    },
    "tags": []
   },
   "outputs": [],
   "source": [
    "lr=LogisticRegression()\n",
    "lr.fit(all_x,all_y)\n",
    "holdout_predictions=lr.predict(holdout[columns])"
   ]
  },
  {
   "cell_type": "code",
   "execution_count": 17,
   "id": "3c3b5af1",
   "metadata": {
    "execution": {
     "iopub.execute_input": "2022-07-19T10:37:28.048855Z",
     "iopub.status.busy": "2022-07-19T10:37:28.048257Z",
     "iopub.status.idle": "2022-07-19T10:37:28.060597Z",
     "shell.execute_reply": "2022-07-19T10:37:28.059220Z"
    },
    "papermill": {
     "duration": 0.034158,
     "end_time": "2022-07-19T10:37:28.064700",
     "exception": false,
     "start_time": "2022-07-19T10:37:28.030542",
     "status": "completed"
    },
    "tags": []
   },
   "outputs": [],
   "source": [
    "holdout_ids=holdout[\"PassengerId\"]\n",
    "submission_df={\"PassengerId\": holdout_ids,\"Survived\": holdout_predictions}\n",
    "submission=pd.DataFrame(submission_df)"
   ]
  },
  {
   "cell_type": "code",
   "execution_count": 18,
   "id": "971ac581",
   "metadata": {
    "execution": {
     "iopub.execute_input": "2022-07-19T10:37:28.098947Z",
     "iopub.status.busy": "2022-07-19T10:37:28.098347Z",
     "iopub.status.idle": "2022-07-19T10:37:28.129185Z",
     "shell.execute_reply": "2022-07-19T10:37:28.128227Z"
    },
    "papermill": {
     "duration": 0.051557,
     "end_time": "2022-07-19T10:37:28.131842",
     "exception": false,
     "start_time": "2022-07-19T10:37:28.080285",
     "status": "completed"
    },
    "tags": []
   },
   "outputs": [
    {
     "data": {
      "text/html": [
       "<div>\n",
       "<style scoped>\n",
       "    .dataframe tbody tr th:only-of-type {\n",
       "        vertical-align: middle;\n",
       "    }\n",
       "\n",
       "    .dataframe tbody tr th {\n",
       "        vertical-align: top;\n",
       "    }\n",
       "\n",
       "    .dataframe thead th {\n",
       "        text-align: right;\n",
       "    }\n",
       "</style>\n",
       "<table border=\"1\" class=\"dataframe\">\n",
       "  <thead>\n",
       "    <tr style=\"text-align: right;\">\n",
       "      <th></th>\n",
       "      <th>PassengerId</th>\n",
       "      <th>Survived</th>\n",
       "    </tr>\n",
       "  </thead>\n",
       "  <tbody>\n",
       "    <tr>\n",
       "      <th>count</th>\n",
       "      <td>418.000000</td>\n",
       "      <td>418.000000</td>\n",
       "    </tr>\n",
       "    <tr>\n",
       "      <th>mean</th>\n",
       "      <td>1100.500000</td>\n",
       "      <td>0.346890</td>\n",
       "    </tr>\n",
       "    <tr>\n",
       "      <th>std</th>\n",
       "      <td>120.810458</td>\n",
       "      <td>0.476551</td>\n",
       "    </tr>\n",
       "    <tr>\n",
       "      <th>min</th>\n",
       "      <td>892.000000</td>\n",
       "      <td>0.000000</td>\n",
       "    </tr>\n",
       "    <tr>\n",
       "      <th>25%</th>\n",
       "      <td>996.250000</td>\n",
       "      <td>0.000000</td>\n",
       "    </tr>\n",
       "    <tr>\n",
       "      <th>50%</th>\n",
       "      <td>1100.500000</td>\n",
       "      <td>0.000000</td>\n",
       "    </tr>\n",
       "    <tr>\n",
       "      <th>75%</th>\n",
       "      <td>1204.750000</td>\n",
       "      <td>1.000000</td>\n",
       "    </tr>\n",
       "    <tr>\n",
       "      <th>max</th>\n",
       "      <td>1309.000000</td>\n",
       "      <td>1.000000</td>\n",
       "    </tr>\n",
       "  </tbody>\n",
       "</table>\n",
       "</div>"
      ],
      "text/plain": [
       "       PassengerId    Survived\n",
       "count   418.000000  418.000000\n",
       "mean   1100.500000    0.346890\n",
       "std     120.810458    0.476551\n",
       "min     892.000000    0.000000\n",
       "25%     996.250000    0.000000\n",
       "50%    1100.500000    0.000000\n",
       "75%    1204.750000    1.000000\n",
       "max    1309.000000    1.000000"
      ]
     },
     "execution_count": 18,
     "metadata": {},
     "output_type": "execute_result"
    }
   ],
   "source": [
    "submission.describe()"
   ]
  },
  {
   "cell_type": "code",
   "execution_count": 19,
   "id": "9c7fd396",
   "metadata": {
    "execution": {
     "iopub.execute_input": "2022-07-19T10:37:28.152429Z",
     "iopub.status.busy": "2022-07-19T10:37:28.151744Z",
     "iopub.status.idle": "2022-07-19T10:37:28.158804Z",
     "shell.execute_reply": "2022-07-19T10:37:28.157495Z"
    },
    "papermill": {
     "duration": 0.019609,
     "end_time": "2022-07-19T10:37:28.161072",
     "exception": false,
     "start_time": "2022-07-19T10:37:28.141463",
     "status": "completed"
    },
    "tags": []
   },
   "outputs": [
    {
     "data": {
      "text/plain": [
       "(418, 24)"
      ]
     },
     "execution_count": 19,
     "metadata": {},
     "output_type": "execute_result"
    }
   ],
   "source": [
    "test.shape"
   ]
  },
  {
   "cell_type": "code",
   "execution_count": 20,
   "id": "c9908e5e",
   "metadata": {
    "execution": {
     "iopub.execute_input": "2022-07-19T10:37:28.181052Z",
     "iopub.status.busy": "2022-07-19T10:37:28.180270Z",
     "iopub.status.idle": "2022-07-19T10:37:28.188992Z",
     "shell.execute_reply": "2022-07-19T10:37:28.188158Z"
    },
    "papermill": {
     "duration": 0.021597,
     "end_time": "2022-07-19T10:37:28.191448",
     "exception": false,
     "start_time": "2022-07-19T10:37:28.169851",
     "status": "completed"
    },
    "tags": []
   },
   "outputs": [],
   "source": [
    "submission.to_csv(\"submission.csv\",index=False)"
   ]
  },
  {
   "cell_type": "code",
   "execution_count": 21,
   "id": "76f9fa00",
   "metadata": {
    "execution": {
     "iopub.execute_input": "2022-07-19T10:37:28.212084Z",
     "iopub.status.busy": "2022-07-19T10:37:28.211293Z",
     "iopub.status.idle": "2022-07-19T10:37:28.221541Z",
     "shell.execute_reply": "2022-07-19T10:37:28.219441Z"
    },
    "papermill": {
     "duration": 0.023258,
     "end_time": "2022-07-19T10:37:28.223829",
     "exception": false,
     "start_time": "2022-07-19T10:37:28.200571",
     "status": "completed"
    },
    "tags": []
   },
   "outputs": [
    {
     "name": "stdout",
     "output_type": "stream",
     "text": [
      "     PassengerId  Survived\n",
      "0            892         0\n",
      "1            893         0\n",
      "2            894         0\n",
      "3            895         0\n",
      "4            896         1\n",
      "..           ...       ...\n",
      "413         1305         0\n",
      "414         1306         1\n",
      "415         1307         0\n",
      "416         1308         0\n",
      "417         1309         0\n",
      "\n",
      "[418 rows x 2 columns]\n"
     ]
    }
   ],
   "source": [
    "print(submission)"
   ]
  }
 ],
 "metadata": {
  "kernelspec": {
   "display_name": "Python 3 (ipykernel)",
   "language": "python",
   "name": "python3"
  },
  "language_info": {
   "codemirror_mode": {
    "name": "ipython",
    "version": 3
   },
   "file_extension": ".py",
   "mimetype": "text/x-python",
   "name": "python",
   "nbconvert_exporter": "python",
   "pygments_lexer": "ipython3",
   "version": "3.9.12"
  },
  "papermill": {
   "default_parameters": {},
   "duration": 13.543839,
   "end_time": "2022-07-19T10:37:28.956390",
   "environment_variables": {},
   "exception": null,
   "input_path": "__notebook__.ipynb",
   "output_path": "__notebook__.ipynb",
   "parameters": {},
   "start_time": "2022-07-19T10:37:15.412551",
   "version": "2.3.4"
  }
 },
 "nbformat": 4,
 "nbformat_minor": 5
}
